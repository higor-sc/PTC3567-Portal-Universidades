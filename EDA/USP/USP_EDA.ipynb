{
 "cells": [
  {
   "cell_type": "markdown",
   "id": "8c55f9b7-3250-4a3f-a209-08a758a588e5",
   "metadata": {},
   "source": [
    "## Inicialização das bibliotecas"
   ]
  },
  {
   "cell_type": "code",
   "execution_count": 1,
   "id": "ad4b2474-91b0-4ce4-aa4a-4d342f6dac6b",
   "metadata": {},
   "outputs": [],
   "source": [
    "# Bibliotecas básicas\n",
    "import numpy as np\n",
    "import pandas as pd\n",
    "from scipy import stats\n",
    "import glob\n",
    "\n",
    "# Bibliotecas de visualização\n",
    "import matplotlib.pyplot as plt\n",
    "import seaborn as sns"
   ]
  },
  {
   "cell_type": "markdown",
   "id": "42482951-a95d-4ca6-8c05-a2e7344aa503",
   "metadata": {},
   "source": [
    "## Importação dos dados"
   ]
  },
  {
   "cell_type": "code",
   "execution_count": 2,
   "id": "a2613c49-027c-4323-99de-5028dea49824",
   "metadata": {},
   "outputs": [],
   "source": [
    "path = \"Datasets\""
   ]
  },
  {
   "cell_type": "code",
   "execution_count": 3,
   "id": "4adb7b96-89e9-4ae9-9614-0f0c1d75e4a4",
   "metadata": {},
   "outputs": [],
   "source": [
    "all_files = glob.glob(path + \"/*.txt\")"
   ]
  },
  {
   "cell_type": "code",
   "execution_count": 4,
   "id": "17b3170e-189d-4369-9e22-64144b03c585",
   "metadata": {},
   "outputs": [],
   "source": [
    "li = []\n",
    "\n",
    "for filename in all_files:\n",
    "    year, month = filename[9:14].split(\"_\")\n",
    "    df = pd.read_csv(filename, sep=';', header=0, encoding='latin-1', index_col=False)\n",
    "    df[\"Data\"] = pd.to_datetime(f\"{month}/{year}\", format=\"%m/%y\")\n",
    "    li.append(df)"
   ]
  },
  {
   "cell_type": "code",
   "execution_count": 5,
   "id": "f96cc4b4-8c93-498e-bfcf-fdab40b669b2",
   "metadata": {},
   "outputs": [],
   "source": [
    "df = li[0]"
   ]
  },
  {
   "cell_type": "code",
   "execution_count": 6,
   "id": "53cccfa6-a17a-4074-8f24-e517c1d163c6",
   "metadata": {},
   "outputs": [],
   "source": [
    "for i in range(1,len(li)):\n",
    "    df = df.append(li[i], ignore_index=True)"
   ]
  },
  {
   "cell_type": "code",
   "execution_count": 7,
   "id": "c2002d1e-b7c5-4224-bc55-6b849a1ab815",
   "metadata": {},
   "outputs": [],
   "source": [
    "df = df.rename(columns={\" Nome\": \"Nome\"})"
   ]
  },
  {
   "cell_type": "markdown",
   "id": "845a2c09-9772-43d0-8061-e2063e6db051",
   "metadata": {},
   "source": [
    "## Caraterização inicial dos atributos\n"
   ]
  },
  {
   "cell_type": "code",
   "execution_count": 8,
   "id": "bd0f0a42-987b-4881-be37-0cfb43196801",
   "metadata": {},
   "outputs": [],
   "source": [
    "df['Salário Mensal'] = df['Salário Mensal'].str.replace(',', '.').astype(float)\n",
    "df['Parcelas Eventuais'] = df['Parcelas Eventuais'].str.replace(',', '.').astype(float)\n",
    "df['Líquido'] = df['Líquido'].str.replace(',', '.').astype(float)"
   ]
  },
  {
   "cell_type": "code",
   "execution_count": 9,
   "id": "d1b6ad99-829b-4615-a5de-99729711da90",
   "metadata": {},
   "outputs": [
    {
     "data": {
      "text/plain": [
       "Nome                           object\n",
       "Unid/Orgão                     object\n",
       "Depto/Setor                    object\n",
       "Jornada                        object\n",
       "Categoria                      object\n",
       "Classe                         object\n",
       "Ref/MS                         object\n",
       "Função                         object\n",
       "Função de Estrutura            object\n",
       "Tempo USP                       int64\n",
       "Parcelas Eventuais            float64\n",
       "Salário Mensal                float64\n",
       "Líquido                       float64\n",
       "Data                   datetime64[ns]\n",
       "dtype: object"
      ]
     },
     "execution_count": 9,
     "metadata": {},
     "output_type": "execute_result"
    }
   ],
   "source": [
    "df.dtypes"
   ]
  },
  {
   "cell_type": "markdown",
   "id": "511d1c9f-cb0b-4a76-a309-eef5354d262c",
   "metadata": {},
   "source": [
    "## Tratamento da base"
   ]
  },
  {
   "cell_type": "code",
   "execution_count": 10,
   "id": "46ff2f13-ed79-453b-baa8-bc06e8268245",
   "metadata": {},
   "outputs": [],
   "source": [
    "df_numerica = df[[\"Nome\", \"Tempo USP\", \"Parcelas Eventuais\", \"Salário Mensal\", \"Líquido\", \"Data\"]]"
   ]
  },
  {
   "cell_type": "code",
   "execution_count": 11,
   "id": "dc672a25-0bd8-4e3d-9b8d-7b0313b8230a",
   "metadata": {},
   "outputs": [
    {
     "data": {
      "text/html": [
       "<div>\n",
       "<style scoped>\n",
       "    .dataframe tbody tr th:only-of-type {\n",
       "        vertical-align: middle;\n",
       "    }\n",
       "\n",
       "    .dataframe tbody tr th {\n",
       "        vertical-align: top;\n",
       "    }\n",
       "\n",
       "    .dataframe thead th {\n",
       "        text-align: right;\n",
       "    }\n",
       "</style>\n",
       "<table border=\"1\" class=\"dataframe\">\n",
       "  <thead>\n",
       "    <tr style=\"text-align: right;\">\n",
       "      <th></th>\n",
       "      <th>Nome</th>\n",
       "      <th>Tempo USP</th>\n",
       "      <th>Parcelas Eventuais</th>\n",
       "      <th>Salário Mensal</th>\n",
       "      <th>Líquido</th>\n",
       "      <th>Data</th>\n",
       "    </tr>\n",
       "  </thead>\n",
       "  <tbody>\n",
       "    <tr>\n",
       "      <th>0</th>\n",
       "      <td>Paulo Ernesto Celestini</td>\n",
       "      <td>30</td>\n",
       "      <td>0.00</td>\n",
       "      <td>18727.96</td>\n",
       "      <td>14627.29</td>\n",
       "      <td>2014-09-01</td>\n",
       "    </tr>\n",
       "    <tr>\n",
       "      <th>1</th>\n",
       "      <td>Izaura Maria Vieira</td>\n",
       "      <td>30</td>\n",
       "      <td>165.63</td>\n",
       "      <td>8063.76</td>\n",
       "      <td>6491.77</td>\n",
       "      <td>2014-09-01</td>\n",
       "    </tr>\n",
       "    <tr>\n",
       "      <th>2</th>\n",
       "      <td>Leia Sicilia</td>\n",
       "      <td>30</td>\n",
       "      <td>14070.05</td>\n",
       "      <td>8394.20</td>\n",
       "      <td>15989.13</td>\n",
       "      <td>2014-09-01</td>\n",
       "    </tr>\n",
       "    <tr>\n",
       "      <th>3</th>\n",
       "      <td>Wilma Alexandre</td>\n",
       "      <td>30</td>\n",
       "      <td>0.00</td>\n",
       "      <td>7490.16</td>\n",
       "      <td>5906.40</td>\n",
       "      <td>2014-09-01</td>\n",
       "    </tr>\n",
       "    <tr>\n",
       "      <th>4</th>\n",
       "      <td>Julia Deborah Alves Granato Vidal Solda</td>\n",
       "      <td>30</td>\n",
       "      <td>0.00</td>\n",
       "      <td>11417.42</td>\n",
       "      <td>9173.26</td>\n",
       "      <td>2014-09-01</td>\n",
       "    </tr>\n",
       "    <tr>\n",
       "      <th>...</th>\n",
       "      <td>...</td>\n",
       "      <td>...</td>\n",
       "      <td>...</td>\n",
       "      <td>...</td>\n",
       "      <td>...</td>\n",
       "      <td>...</td>\n",
       "    </tr>\n",
       "    <tr>\n",
       "      <th>2539298</th>\n",
       "      <td>Mauro Kushiama</td>\n",
       "      <td>4</td>\n",
       "      <td>0.00</td>\n",
       "      <td>12403.40</td>\n",
       "      <td>9438.63</td>\n",
       "      <td>2022-10-01</td>\n",
       "    </tr>\n",
       "    <tr>\n",
       "      <th>2539299</th>\n",
       "      <td>Gisele Couto de Andrade</td>\n",
       "      <td>2</td>\n",
       "      <td>0.00</td>\n",
       "      <td>10830.69</td>\n",
       "      <td>8173.18</td>\n",
       "      <td>2022-10-01</td>\n",
       "    </tr>\n",
       "    <tr>\n",
       "      <th>2539300</th>\n",
       "      <td>Daniella Albino Bezerra Silverio</td>\n",
       "      <td>2</td>\n",
       "      <td>0.00</td>\n",
       "      <td>20882.12</td>\n",
       "      <td>15678.66</td>\n",
       "      <td>2022-10-01</td>\n",
       "    </tr>\n",
       "    <tr>\n",
       "      <th>2539301</th>\n",
       "      <td>Suely Villela de Azevedo</td>\n",
       "      <td>1</td>\n",
       "      <td>0.00</td>\n",
       "      <td>11223.87</td>\n",
       "      <td>8406.10</td>\n",
       "      <td>2022-10-01</td>\n",
       "    </tr>\n",
       "    <tr>\n",
       "      <th>2539302</th>\n",
       "      <td>Thiago Brunieri Pereira Dias</td>\n",
       "      <td>0</td>\n",
       "      <td>0.00</td>\n",
       "      <td>10830.69</td>\n",
       "      <td>8121.04</td>\n",
       "      <td>2022-10-01</td>\n",
       "    </tr>\n",
       "  </tbody>\n",
       "</table>\n",
       "<p>2539303 rows × 6 columns</p>\n",
       "</div>"
      ],
      "text/plain": [
       "                                            Nome  Tempo USP  \\\n",
       "0                        Paulo Ernesto Celestini         30   \n",
       "1                            Izaura Maria Vieira         30   \n",
       "2                                   Leia Sicilia         30   \n",
       "3                                Wilma Alexandre         30   \n",
       "4        Julia Deborah Alves Granato Vidal Solda         30   \n",
       "...                                          ...        ...   \n",
       "2539298                           Mauro Kushiama          4   \n",
       "2539299                  Gisele Couto de Andrade          2   \n",
       "2539300         Daniella Albino Bezerra Silverio          2   \n",
       "2539301                 Suely Villela de Azevedo          1   \n",
       "2539302             Thiago Brunieri Pereira Dias          0   \n",
       "\n",
       "         Parcelas Eventuais  Salário Mensal   Líquido       Data  \n",
       "0                      0.00        18727.96  14627.29 2014-09-01  \n",
       "1                    165.63         8063.76   6491.77 2014-09-01  \n",
       "2                  14070.05         8394.20  15989.13 2014-09-01  \n",
       "3                      0.00         7490.16   5906.40 2014-09-01  \n",
       "4                      0.00        11417.42   9173.26 2014-09-01  \n",
       "...                     ...             ...       ...        ...  \n",
       "2539298                0.00        12403.40   9438.63 2022-10-01  \n",
       "2539299                0.00        10830.69   8173.18 2022-10-01  \n",
       "2539300                0.00        20882.12  15678.66 2022-10-01  \n",
       "2539301                0.00        11223.87   8406.10 2022-10-01  \n",
       "2539302                0.00        10830.69   8121.04 2022-10-01  \n",
       "\n",
       "[2539303 rows x 6 columns]"
      ]
     },
     "execution_count": 11,
     "metadata": {},
     "output_type": "execute_result"
    }
   ],
   "source": [
    "df_numerica"
   ]
  },
  {
   "cell_type": "code",
   "execution_count": 12,
   "id": "14abba3a-884a-4b53-9d0d-f4353f1ecad3",
   "metadata": {},
   "outputs": [
    {
     "data": {
      "text/plain": [
       "False"
      ]
     },
     "execution_count": 12,
     "metadata": {},
     "output_type": "execute_result"
    }
   ],
   "source": [
    "df_numerica.isnull().values.any()"
   ]
  },
  {
   "cell_type": "code",
   "execution_count": 13,
   "id": "94fbe9cb-e180-4546-8376-a84e43a4df66",
   "metadata": {},
   "outputs": [],
   "source": [
    "df_numerica = df_numerica[df_numerica['Tempo USP'] != 0]\n",
    "df_numerica = df_numerica[df_numerica['Salário Mensal'] != 0]\n",
    "df_numerica = df_numerica[df_numerica['Líquido'] != 0]"
   ]
  },
  {
   "cell_type": "code",
   "execution_count": 14,
   "id": "7ed701c5-14ed-4288-b054-c8f463876774",
   "metadata": {},
   "outputs": [
    {
     "data": {
      "text/plain": [
       "0"
      ]
     },
     "execution_count": 14,
     "metadata": {},
     "output_type": "execute_result"
    }
   ],
   "source": [
    "(df_numerica['Tempo USP'] == 0).sum()"
   ]
  },
  {
   "cell_type": "code",
   "execution_count": 15,
   "id": "615ce689-8565-4b0f-b044-48ffee8c94b0",
   "metadata": {},
   "outputs": [
    {
     "data": {
      "text/plain": [
       "0"
      ]
     },
     "execution_count": 15,
     "metadata": {},
     "output_type": "execute_result"
    }
   ],
   "source": [
    "(df_numerica['Salário Mensal'] == 0).sum()"
   ]
  },
  {
   "cell_type": "code",
   "execution_count": 16,
   "id": "cd4069f6-cff5-4c4d-a444-c7408f2b6611",
   "metadata": {},
   "outputs": [
    {
     "data": {
      "text/plain": [
       "0"
      ]
     },
     "execution_count": 16,
     "metadata": {},
     "output_type": "execute_result"
    }
   ],
   "source": [
    "(df_numerica['Líquido'] == 0).sum()"
   ]
  },
  {
   "cell_type": "code",
   "execution_count": 17,
   "id": "843d6669-3dda-475a-9e5e-9f27d6d4cae5",
   "metadata": {},
   "outputs": [
    {
     "data": {
      "text/html": [
       "<div>\n",
       "<style scoped>\n",
       "    .dataframe tbody tr th:only-of-type {\n",
       "        vertical-align: middle;\n",
       "    }\n",
       "\n",
       "    .dataframe tbody tr th {\n",
       "        vertical-align: top;\n",
       "    }\n",
       "\n",
       "    .dataframe thead th {\n",
       "        text-align: right;\n",
       "    }\n",
       "</style>\n",
       "<table border=\"1\" class=\"dataframe\">\n",
       "  <thead>\n",
       "    <tr style=\"text-align: right;\">\n",
       "      <th></th>\n",
       "      <th>Nome</th>\n",
       "      <th>Tempo USP</th>\n",
       "      <th>Parcelas Eventuais</th>\n",
       "      <th>Salário Mensal</th>\n",
       "      <th>Líquido</th>\n",
       "      <th>Data</th>\n",
       "    </tr>\n",
       "  </thead>\n",
       "  <tbody>\n",
       "    <tr>\n",
       "      <th>0</th>\n",
       "      <td>Paulo Ernesto Celestini</td>\n",
       "      <td>30</td>\n",
       "      <td>0.00</td>\n",
       "      <td>18727.96</td>\n",
       "      <td>14627.29</td>\n",
       "      <td>2014-09-01</td>\n",
       "    </tr>\n",
       "    <tr>\n",
       "      <th>1</th>\n",
       "      <td>Izaura Maria Vieira</td>\n",
       "      <td>30</td>\n",
       "      <td>165.63</td>\n",
       "      <td>8063.76</td>\n",
       "      <td>6491.77</td>\n",
       "      <td>2014-09-01</td>\n",
       "    </tr>\n",
       "    <tr>\n",
       "      <th>2</th>\n",
       "      <td>Leia Sicilia</td>\n",
       "      <td>30</td>\n",
       "      <td>14070.05</td>\n",
       "      <td>8394.20</td>\n",
       "      <td>15989.13</td>\n",
       "      <td>2014-09-01</td>\n",
       "    </tr>\n",
       "    <tr>\n",
       "      <th>3</th>\n",
       "      <td>Wilma Alexandre</td>\n",
       "      <td>30</td>\n",
       "      <td>0.00</td>\n",
       "      <td>7490.16</td>\n",
       "      <td>5906.40</td>\n",
       "      <td>2014-09-01</td>\n",
       "    </tr>\n",
       "    <tr>\n",
       "      <th>4</th>\n",
       "      <td>Julia Deborah Alves Granato Vidal Solda</td>\n",
       "      <td>30</td>\n",
       "      <td>0.00</td>\n",
       "      <td>11417.42</td>\n",
       "      <td>9173.26</td>\n",
       "      <td>2014-09-01</td>\n",
       "    </tr>\n",
       "    <tr>\n",
       "      <th>...</th>\n",
       "      <td>...</td>\n",
       "      <td>...</td>\n",
       "      <td>...</td>\n",
       "      <td>...</td>\n",
       "      <td>...</td>\n",
       "      <td>...</td>\n",
       "    </tr>\n",
       "    <tr>\n",
       "      <th>2539297</th>\n",
       "      <td>Vicente D'Andrea</td>\n",
       "      <td>4</td>\n",
       "      <td>0.00</td>\n",
       "      <td>8516.19</td>\n",
       "      <td>6443.03</td>\n",
       "      <td>2022-10-01</td>\n",
       "    </tr>\n",
       "    <tr>\n",
       "      <th>2539298</th>\n",
       "      <td>Mauro Kushiama</td>\n",
       "      <td>4</td>\n",
       "      <td>0.00</td>\n",
       "      <td>12403.40</td>\n",
       "      <td>9438.63</td>\n",
       "      <td>2022-10-01</td>\n",
       "    </tr>\n",
       "    <tr>\n",
       "      <th>2539299</th>\n",
       "      <td>Gisele Couto de Andrade</td>\n",
       "      <td>2</td>\n",
       "      <td>0.00</td>\n",
       "      <td>10830.69</td>\n",
       "      <td>8173.18</td>\n",
       "      <td>2022-10-01</td>\n",
       "    </tr>\n",
       "    <tr>\n",
       "      <th>2539300</th>\n",
       "      <td>Daniella Albino Bezerra Silverio</td>\n",
       "      <td>2</td>\n",
       "      <td>0.00</td>\n",
       "      <td>20882.12</td>\n",
       "      <td>15678.66</td>\n",
       "      <td>2022-10-01</td>\n",
       "    </tr>\n",
       "    <tr>\n",
       "      <th>2539301</th>\n",
       "      <td>Suely Villela de Azevedo</td>\n",
       "      <td>1</td>\n",
       "      <td>0.00</td>\n",
       "      <td>11223.87</td>\n",
       "      <td>8406.10</td>\n",
       "      <td>2022-10-01</td>\n",
       "    </tr>\n",
       "  </tbody>\n",
       "</table>\n",
       "<p>1934805 rows × 6 columns</p>\n",
       "</div>"
      ],
      "text/plain": [
       "                                            Nome  Tempo USP  \\\n",
       "0                        Paulo Ernesto Celestini         30   \n",
       "1                            Izaura Maria Vieira         30   \n",
       "2                                   Leia Sicilia         30   \n",
       "3                                Wilma Alexandre         30   \n",
       "4        Julia Deborah Alves Granato Vidal Solda         30   \n",
       "...                                          ...        ...   \n",
       "2539297                         Vicente D'Andrea          4   \n",
       "2539298                           Mauro Kushiama          4   \n",
       "2539299                  Gisele Couto de Andrade          2   \n",
       "2539300         Daniella Albino Bezerra Silverio          2   \n",
       "2539301                 Suely Villela de Azevedo          1   \n",
       "\n",
       "         Parcelas Eventuais  Salário Mensal   Líquido       Data  \n",
       "0                      0.00        18727.96  14627.29 2014-09-01  \n",
       "1                    165.63         8063.76   6491.77 2014-09-01  \n",
       "2                  14070.05         8394.20  15989.13 2014-09-01  \n",
       "3                      0.00         7490.16   5906.40 2014-09-01  \n",
       "4                      0.00        11417.42   9173.26 2014-09-01  \n",
       "...                     ...             ...       ...        ...  \n",
       "2539297                0.00         8516.19   6443.03 2022-10-01  \n",
       "2539298                0.00        12403.40   9438.63 2022-10-01  \n",
       "2539299                0.00        10830.69   8173.18 2022-10-01  \n",
       "2539300                0.00        20882.12  15678.66 2022-10-01  \n",
       "2539301                0.00        11223.87   8406.10 2022-10-01  \n",
       "\n",
       "[1934805 rows x 6 columns]"
      ]
     },
     "execution_count": 17,
     "metadata": {},
     "output_type": "execute_result"
    }
   ],
   "source": [
    "df_numerica"
   ]
  },
  {
   "cell_type": "markdown",
   "id": "79b21ac6-970a-47aa-857e-93332627e754",
   "metadata": {},
   "source": [
    "## Avaliação das medidas de localidade\n"
   ]
  },
  {
   "cell_type": "code",
   "execution_count": null,
   "id": "4012fb7f-77d1-4960-9ccd-0c98638380d0",
   "metadata": {},
   "outputs": [
    {
     "data": {
      "text/html": [
       "<div>\n",
       "<style scoped>\n",
       "    .dataframe tbody tr th:only-of-type {\n",
       "        vertical-align: middle;\n",
       "    }\n",
       "\n",
       "    .dataframe tbody tr th {\n",
       "        vertical-align: top;\n",
       "    }\n",
       "\n",
       "    .dataframe thead th {\n",
       "        text-align: right;\n",
       "    }\n",
       "</style>\n",
       "<table border=\"1\" class=\"dataframe\">\n",
       "  <thead>\n",
       "    <tr style=\"text-align: right;\">\n",
       "      <th></th>\n",
       "      <th>Tempo USP</th>\n",
       "      <th>Parcelas Eventuais</th>\n",
       "      <th>Salário Mensal</th>\n",
       "      <th>Líquido</th>\n",
       "    </tr>\n",
       "  </thead>\n",
       "  <tbody>\n",
       "    <tr>\n",
       "      <th>count</th>\n",
       "      <td>1.934805e+06</td>\n",
       "      <td>1.934805e+06</td>\n",
       "      <td>1.934805e+06</td>\n",
       "      <td>1.934805e+06</td>\n",
       "    </tr>\n",
       "    <tr>\n",
       "      <th>mean</th>\n",
       "      <td>1.896914e+01</td>\n",
       "      <td>2.100858e+03</td>\n",
       "      <td>1.055575e+04</td>\n",
       "      <td>8.916258e+03</td>\n",
       "    </tr>\n",
       "    <tr>\n",
       "      <th>std</th>\n",
       "      <td>1.098023e+01</td>\n",
       "      <td>4.737886e+03</td>\n",
       "      <td>6.555880e+03</td>\n",
       "      <td>5.550633e+03</td>\n",
       "    </tr>\n",
       "    <tr>\n",
       "      <th>min</th>\n",
       "      <td>1.000000e+00</td>\n",
       "      <td>0.000000e+00</td>\n",
       "      <td>3.000000e-02</td>\n",
       "      <td>1.000000e-02</td>\n",
       "    </tr>\n",
       "    <tr>\n",
       "      <th>25%</th>\n",
       "      <td>1.000000e+01</td>\n",
       "      <td>0.000000e+00</td>\n",
       "      <td>5.389550e+03</td>\n",
       "      <td>4.747300e+03</td>\n",
       "    </tr>\n",
       "    <tr>\n",
       "      <th>50%</th>\n",
       "      <td>1.800000e+01</td>\n",
       "      <td>0.000000e+00</td>\n",
       "      <td>9.062720e+03</td>\n",
       "      <td>7.749890e+03</td>\n",
       "    </tr>\n",
       "    <tr>\n",
       "      <th>75%</th>\n",
       "      <td>2.800000e+01</td>\n",
       "      <td>1.916530e+03</td>\n",
       "      <td>1.405928e+04</td>\n",
       "      <td>1.164365e+04</td>\n",
       "    </tr>\n",
       "    <tr>\n",
       "      <th>max</th>\n",
       "      <td>5.700000e+01</td>\n",
       "      <td>2.947692e+05</td>\n",
       "      <td>5.790937e+04</td>\n",
       "      <td>2.693800e+05</td>\n",
       "    </tr>\n",
       "  </tbody>\n",
       "</table>\n",
       "</div>"
      ],
      "text/plain": [
       "          Tempo USP  Parcelas Eventuais  Salário Mensal       Líquido\n",
       "count  1.934805e+06        1.934805e+06    1.934805e+06  1.934805e+06\n",
       "mean   1.896914e+01        2.100858e+03    1.055575e+04  8.916258e+03\n",
       "std    1.098023e+01        4.737886e+03    6.555880e+03  5.550633e+03\n",
       "min    1.000000e+00        0.000000e+00    3.000000e-02  1.000000e-02\n",
       "25%    1.000000e+01        0.000000e+00    5.389550e+03  4.747300e+03\n",
       "50%    1.800000e+01        0.000000e+00    9.062720e+03  7.749890e+03\n",
       "75%    2.800000e+01        1.916530e+03    1.405928e+04  1.164365e+04\n",
       "max    5.700000e+01        2.947692e+05    5.790937e+04  2.693800e+05"
      ]
     },
     "execution_count": 18,
     "metadata": {},
     "output_type": "execute_result"
    }
   ],
   "source": [
    "df_numerica.describe()"
   ]
  },
  {
   "cell_type": "code",
   "execution_count": 19,
   "id": "23cddcda-1b8f-4986-ac9f-54886b787855",
   "metadata": {},
   "outputs": [
    {
     "name": "stderr",
     "output_type": "stream",
     "text": [
      "C:\\Users\\benny\\AppData\\Local\\Temp/ipykernel_27348/2801813793.py:1: FutureWarning: DataFrame.mean and DataFrame.median with numeric_only=None will include datetime64 and datetime64tz columns in a future version.\n",
      "  df_numerica.median()\n",
      "C:\\Users\\benny\\AppData\\Local\\Temp/ipykernel_27348/2801813793.py:1: FutureWarning: Dropping of nuisance columns in DataFrame reductions (with 'numeric_only=None') is deprecated; in a future version this will raise TypeError.  Select only valid columns before calling the reduction.\n",
      "  df_numerica.median()\n"
     ]
    },
    {
     "data": {
      "text/plain": [
       "Tempo USP               18.00\n",
       "Parcelas Eventuais       0.00\n",
       "Salário Mensal        9062.72\n",
       "Líquido               7749.89\n",
       "dtype: float64"
      ]
     },
     "execution_count": 19,
     "metadata": {},
     "output_type": "execute_result"
    }
   ],
   "source": [
    "df_numerica.median()"
   ]
  },
  {
   "cell_type": "code",
   "execution_count": 21,
   "id": "c015b1fb-cb45-457f-887f-7ee14e9a0001",
   "metadata": {},
   "outputs": [
    {
     "data": {
      "text/html": [
       "<div>\n",
       "<style scoped>\n",
       "    .dataframe tbody tr th:only-of-type {\n",
       "        vertical-align: middle;\n",
       "    }\n",
       "\n",
       "    .dataframe tbody tr th {\n",
       "        vertical-align: top;\n",
       "    }\n",
       "\n",
       "    .dataframe thead th {\n",
       "        text-align: right;\n",
       "    }\n",
       "</style>\n",
       "<table border=\"1\" class=\"dataframe\">\n",
       "  <thead>\n",
       "    <tr style=\"text-align: right;\">\n",
       "      <th></th>\n",
       "      <th>Tempo USP</th>\n",
       "      <th>Parcelas Eventuais</th>\n",
       "      <th>Salário Mensal</th>\n",
       "      <th>Líquido</th>\n",
       "    </tr>\n",
       "  </thead>\n",
       "  <tbody>\n",
       "    <tr>\n",
       "      <th>Tempo USP</th>\n",
       "      <td>120.565553</td>\n",
       "      <td>5.729396e+03</td>\n",
       "      <td>2.986459e+04</td>\n",
       "      <td>2.275901e+04</td>\n",
       "    </tr>\n",
       "    <tr>\n",
       "      <th>Parcelas Eventuais</th>\n",
       "      <td>5729.395526</td>\n",
       "      <td>2.244757e+07</td>\n",
       "      <td>6.331899e+06</td>\n",
       "      <td>1.554998e+07</td>\n",
       "    </tr>\n",
       "    <tr>\n",
       "      <th>Salário Mensal</th>\n",
       "      <td>29864.589978</td>\n",
       "      <td>6.331899e+06</td>\n",
       "      <td>4.297956e+07</td>\n",
       "      <td>3.135444e+07</td>\n",
       "    </tr>\n",
       "    <tr>\n",
       "      <th>Líquido</th>\n",
       "      <td>22759.010162</td>\n",
       "      <td>1.554998e+07</td>\n",
       "      <td>3.135444e+07</td>\n",
       "      <td>3.080952e+07</td>\n",
       "    </tr>\n",
       "  </tbody>\n",
       "</table>\n",
       "</div>"
      ],
      "text/plain": [
       "                       Tempo USP  Parcelas Eventuais  Salário Mensal  \\\n",
       "Tempo USP             120.565553        5.729396e+03    2.986459e+04   \n",
       "Parcelas Eventuais   5729.395526        2.244757e+07    6.331899e+06   \n",
       "Salário Mensal      29864.589978        6.331899e+06    4.297956e+07   \n",
       "Líquido             22759.010162        1.554998e+07    3.135444e+07   \n",
       "\n",
       "                         Líquido  \n",
       "Tempo USP           2.275901e+04  \n",
       "Parcelas Eventuais  1.554998e+07  \n",
       "Salário Mensal      3.135444e+07  \n",
       "Líquido             3.080952e+07  "
      ]
     },
     "execution_count": 21,
     "metadata": {},
     "output_type": "execute_result"
    }
   ],
   "source": [
    "df_numerica.cov()"
   ]
  },
  {
   "cell_type": "code",
   "execution_count": 22,
   "id": "7934f7b4-36ef-4a71-bb2f-ddebd050150b",
   "metadata": {},
   "outputs": [
    {
     "data": {
      "text/html": [
       "<div>\n",
       "<style scoped>\n",
       "    .dataframe tbody tr th:only-of-type {\n",
       "        vertical-align: middle;\n",
       "    }\n",
       "\n",
       "    .dataframe tbody tr th {\n",
       "        vertical-align: top;\n",
       "    }\n",
       "\n",
       "    .dataframe thead th {\n",
       "        text-align: right;\n",
       "    }\n",
       "</style>\n",
       "<table border=\"1\" class=\"dataframe\">\n",
       "  <thead>\n",
       "    <tr style=\"text-align: right;\">\n",
       "      <th></th>\n",
       "      <th>Tempo USP</th>\n",
       "      <th>Parcelas Eventuais</th>\n",
       "      <th>Salário Mensal</th>\n",
       "      <th>Líquido</th>\n",
       "    </tr>\n",
       "  </thead>\n",
       "  <tbody>\n",
       "    <tr>\n",
       "      <th>Tempo USP</th>\n",
       "      <td>1.000000</td>\n",
       "      <td>0.110132</td>\n",
       "      <td>0.414872</td>\n",
       "      <td>0.373421</td>\n",
       "    </tr>\n",
       "    <tr>\n",
       "      <th>Parcelas Eventuais</th>\n",
       "      <td>0.110132</td>\n",
       "      <td>1.000000</td>\n",
       "      <td>0.203854</td>\n",
       "      <td>0.591293</td>\n",
       "    </tr>\n",
       "    <tr>\n",
       "      <th>Salário Mensal</th>\n",
       "      <td>0.414872</td>\n",
       "      <td>0.203854</td>\n",
       "      <td>1.000000</td>\n",
       "      <td>0.861639</td>\n",
       "    </tr>\n",
       "    <tr>\n",
       "      <th>Líquido</th>\n",
       "      <td>0.373421</td>\n",
       "      <td>0.591293</td>\n",
       "      <td>0.861639</td>\n",
       "      <td>1.000000</td>\n",
       "    </tr>\n",
       "  </tbody>\n",
       "</table>\n",
       "</div>"
      ],
      "text/plain": [
       "                    Tempo USP  Parcelas Eventuais  Salário Mensal   Líquido\n",
       "Tempo USP            1.000000            0.110132        0.414872  0.373421\n",
       "Parcelas Eventuais   0.110132            1.000000        0.203854  0.591293\n",
       "Salário Mensal       0.414872            0.203854        1.000000  0.861639\n",
       "Líquido              0.373421            0.591293        0.861639  1.000000"
      ]
     },
     "execution_count": 22,
     "metadata": {},
     "output_type": "execute_result"
    }
   ],
   "source": [
    "df_numerica.corr()"
   ]
  },
  {
   "cell_type": "code",
   "execution_count": 34,
   "id": "4885cf5e-afe7-436a-8afd-77777b2c0c41",
   "metadata": {},
   "outputs": [
    {
     "data": {
      "text/plain": [
       "<AxesSubplot:xlabel='Data', ylabel='Folha de pagamento'>"
      ]
     },
     "execution_count": 34,
     "metadata": {},
     "output_type": "execute_result"
    },
    {
     "data": {
      "image/png": "[encoded data removed]",
      "text/plain": [
       "<Figure size 2880x1440 with 1 Axes>"
      ]
     },
     "metadata": {
      "needs_background": "light"
     },
     "output_type": "display_data"
    }
   ],
   "source": [
    "df_numerica.groupby('Data')['Salário Mensal'].sum().plot(xlabel=\"Data\", ylabel= \"Folha de pagamento\", figsize=(40,20))"
   ]
  },
  {
   "cell_type": "code",
   "execution_count": 39,
   "id": "cc484c10-4dc6-4e96-937d-4edfad7ad305",
   "metadata": {},
   "outputs": [],
   "source": [
    "df_numerica.to_csv(\"base_tratada.csv\",index=False,encoding='latin-1')"
   ]
  },
  {
   "cell_type": "code",
   "execution_count": 41,
   "id": "4a67fb08-8997-4a12-b7f1-328506782b64",
   "metadata": {},
   "outputs": [],
   "source": [
    "df.to_csv(\"base_total.csv\",index=False,encoding='latin-1')"
   ]
  }
 ],
 "metadata": {
  "kernelspec": {
   "display_name": "Python 3 (ipykernel)",
   "language": "python",
   "name": "python3"
  },
  "language_info": {
   "codemirror_mode": {
    "name": "ipython",
    "version": 3
   },
   "file_extension": ".py",
   "mimetype": "text/x-python",
   "name": "python",
   "nbconvert_exporter": "python",
   "pygments_lexer": "ipython3",
   "version": "3.9.7"
  }
 },
 "nbformat": 4,
 "nbformat_minor": 5
}
